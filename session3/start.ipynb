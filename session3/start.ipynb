{
 "cells": [
  {
   "cell_type": "code",
   "execution_count": null,
   "metadata": {},
   "outputs": [
    {
     "ename": "",
     "evalue": "",
     "output_type": "error",
     "traceback": [
      "\u001b[1;31mThe kernel failed to start due to the missing module '_sqlite3'. Consider installing this module.\n",
      "\u001b[1;31mClick <a href='https://aka.ms/kernelFailuresMissingModule'>here</a> for more info."
     ]
    }
   ],
   "source": [
    "links = []\n",
    "with open('./links/1.txt', 'r') as file:\n",
    "    # Read and process each line\n",
    "    for line in file:\n",
    "        splitted = line.split(\" \")\n",
    "        n = int(splitted[0])\n",
    "        nprime = int(splitted[1])\n",
    "        links.append((n, nprime))\n"
   ]
  },
  {
   "cell_type": "code",
   "execution_count": null,
   "metadata": {},
   "outputs": [
    {
     "ename": "",
     "evalue": "",
     "output_type": "error",
     "traceback": [
      "\u001b[1;31mThe kernel failed to start due to the missing module '_sqlite3'. Consider installing this module.\n",
      "\u001b[1;31mClick <a href='https://aka.ms/kernelFailuresMissingModule'>here</a> for more info."
     ]
    }
   ],
   "source": [
    "counter = 0\n",
    "titles = {}\n",
    "with open('./titles/1.txt', 'r') as file:\n",
    "    # Read and process each line\n",
    "    for line in file:\n",
    "        counter+=1\n",
    "        titles[counter] = line\n",
    "degrees_in = {}\n",
    "degrees_out = {}\n",
    "\n",
    "for nnprime in links:\n",
    "    n = nnprime[0]\n",
    "    nprime = nnprime[1]\n",
    "\n",
    "    if(n in degrees_out.keys()):\n",
    "        degrees_out[n].append(nprime)\n",
    "    else:\n",
    "        degrees_out[n] = [nprime]\n",
    "\n",
    "    if(nprime in degrees_in.keys()):\n",
    "        degrees_in[nprime].append(n)\n",
    "    else:\n",
    "        degrees_in[nprime] = [n]"
   ]
  },
  {
   "cell_type": "code",
   "execution_count": null,
   "metadata": {},
   "outputs": [
    {
     "ename": "",
     "evalue": "",
     "output_type": "error",
     "traceback": [
      "\u001b[1;31mThe kernel failed to start due to the missing module '_sqlite3'. Consider installing this module.\n",
      "\u001b[1;31mClick <a href='https://aka.ms/kernelFailuresMissingModule'>here</a> for more info."
     ]
    }
   ],
   "source": [
    "num_degrees_in = {}\n",
    "num_degrees_out = {}\n",
    "for i in degrees_in:\n",
    "    num_degrees_in[i] = len(degrees_in[i])\n",
    "for i in degrees_out:\n",
    "    num_degrees_out[i] = len(degrees_out[i])\n",
    "sorted_degrees_in = dict(sorted(num_degrees_in.items(), key=lambda x: x[1], reverse=True))\n",
    "sorted_degrees_out = dict(sorted(num_degrees_out.items(), key=lambda x: x[1], reverse=True))\n",
    "\n",
    "list1 = []\n",
    "list2 = []\n",
    "\n",
    "node_ids_list1 = []\n",
    "node_ids_list2 = []\n",
    "\n",
    "normalized_in_degree = {}\n",
    "normalized_out_degree = {}\n",
    "\n",
    "\n",
    "for i in sorted_degrees_in:\n",
    "    node_ids_list1.append(i)\n",
    "    normalized_in_degree[i] = num_degrees_in[i]/(len(links))\n",
    "    if(i in sorted_degrees_out.keys()):\n",
    "        list1.append((degrees_in[i], degrees_out[i]))\n",
    "    else:\n",
    "        list1.append((degrees_in[i], []))\n",
    "\n",
    "for i in sorted_degrees_out:\n",
    "    normalized_out_degree[i] = num_degrees_out[i]/(len(links))\n",
    "    node_ids_list2.append(i)\n",
    "    if(i in sorted_degrees_in.keys()):\n",
    "        list2.append((degrees_in[i], degrees_out[i])) \n",
    "    else:\n",
    "        list2.append(([], degrees_out[i]))"
   ]
  },
  {
   "cell_type": "code",
   "execution_count": null,
   "metadata": {},
   "outputs": [
    {
     "ename": "",
     "evalue": "",
     "output_type": "error",
     "traceback": [
      "\u001b[1;31mThe kernel failed to start due to the missing module '_sqlite3'. Consider installing this module.\n",
      "\u001b[1;31mClick <a href='https://aka.ms/kernelFailuresMissingModule'>here</a> for more info."
     ]
    }
   ],
   "source": [
    "print(\"IN DEGREES\")\n",
    "for node_id in node_ids_list1[:5]:\n",
    "    title = titles[node_id]\n",
    "    print(title, round(normalized_in_degree[node_id],6), round(normalized_out_degree[node_id],6))\n",
    "\n",
    "print(\"OUT DEGREES\")\n",
    "for node_id in node_ids_list2[:5]:\n",
    "    title = titles[node_id]\n",
    "    print(title, round(normalized_out_degree[node_id],6), round(normalized_in_degree[node_id],6))"
   ]
  },
  {
   "cell_type": "markdown",
   "metadata": {},
   "source": [
    "## TASK 2"
   ]
  },
  {
   "cell_type": "code",
   "execution_count": null,
   "metadata": {},
   "outputs": [
    {
     "ename": "",
     "evalue": "",
     "output_type": "error",
     "traceback": [
      "\u001b[1;31mThe kernel failed to start due to the missing module '_sqlite3'. Consider installing this module.\n",
      "\u001b[1;31mClick <a href='https://aka.ms/kernelFailuresMissingModule'>here</a> for more info."
     ]
    }
   ],
   "source": [
    "def normalize(dictionary):\n",
    "    tot = sum(dictionary.values())\n",
    "    for key in dictionary.keys():\n",
    "        dictionary[key] = dictionary[key]/tot\n",
    "    return dictionary\n",
    "\n",
    "def get_new_hub_score(degrees_out, auths):\n",
    "    #iterate over all hubs to update\n",
    "    new_hub = {}\n",
    "    for hub_node in degrees_out.keys():\n",
    "        #gets all the nodes pointing to hub node\n",
    "        new_hub_score = 0\n",
    "        for auth_node in degrees_out[hub_node]:\n",
    "            new_hub_score += auths[auth_node]\n",
    "        new_hub[hub_node] = new_hub_score\n",
    "    return normalize(new_hub)\n",
    "\n",
    "def get_new_auth_score(degrees_in, hubs):\n",
    "    new_auth = {}\n",
    "    for auth_node in degrees_in.keys():\n",
    "        new_auth_score = 0\n",
    "        for out_node in degrees_in[auth_node]:\n",
    "            new_auth_score += hubs[out_node]\n",
    "        new_auth[auth_node] = new_auth_score\n",
    "    return normalize(new_auth)\n",
    "\n",
    "hubs = normalized_out_degree\n",
    "auths = normalized_in_degree\n",
    "\n",
    "for i in range(100):\n",
    "    hubs = get_new_hub_score(degrees_out, auths)\n",
    "    auths = get_new_auth_score(degrees_in, hubs)\n",
    "\n",
    "\n",
    "sorted_on_hub_score = dict(sorted(hubs.items(), key=lambda x: x[1], reverse=True))\n",
    "sorted_on_auth_score = dict(sorted(auths.items(), key=lambda x: x[1], reverse=True))\n",
    "\n",
    "top5_hubs = list(sorted_on_hub_score.keys())[:5]\n",
    "top5_auths = list(sorted_on_auth_score.keys())[:5]\n",
    "print(\"HUB\")\n",
    "for i in top5_hubs:\n",
    "    if(i not in sorted_on_auth_score.keys()):\n",
    "        print(titles[i], round(sorted_on_hub_score[i],6), 0.00)\n",
    "    else:\n",
    "        print(titles[i], round(sorted_on_hub_score[i],6), round(sorted_on_auth_score[i],6))\n",
    "\n",
    "print(\"AUTH\")\n",
    "for i in top5_auths:\n",
    "    if(i not in sorted_on_hub_score.keys()):\n",
    "        print(titles[i], round(sorted_on_auth_score[i],6), 0.00)\n",
    "    else:\n",
    "        print(titles[i], round(sorted_on_auth_score[i],6), round(sorted_on_hub_score[i],6))\n"
   ]
  },
  {
   "cell_type": "markdown",
   "metadata": {},
   "source": [
    "\n",
    "## TASK 3"
   ]
  },
  {
   "cell_type": "code",
   "execution_count": null,
   "metadata": {},
   "outputs": [
    {
     "ename": "",
     "evalue": "",
     "output_type": "error",
     "traceback": [
      "\u001b[1;31mThe kernel failed to start due to the missing module '_sqlite3'. Consider installing this module.\n",
      "\u001b[1;31mClick <a href='https://aka.ms/kernelFailuresMissingModule'>here</a> for more info."
     ]
    }
   ],
   "source": [
    "import numpy as np\n",
    "import scipy.sparse as sp\n",
    "cols, rows = zip(*[(i - 1, j - 1) for i, j in links])\n",
    "data = np.ones(len(rows), dtype=int)\n",
    "\n",
    "# Create the sparse matrix using coo_matrix\n",
    "size = len(list(titles.keys()))\n",
    "sparse_matrix = sp.coo_matrix((data, (rows, cols)), shape=(size, size), dtype=np.float64)\n",
    "\n",
    "# Calculate the eigenvector centrality\n",
    "eigen_value, eigen_vector = sp.linalg.eigs(sparse_matrix,k=1, which=\"LR\")  # Use transpose for right eigenvector\n",
    "eigen_vector = np.abs(eigen_vector.flatten())\n",
    "eigen_vector /= eigen_vector.sum()\n",
    "\n",
    "sorted_indices = np.argsort(eigen_vector)[::-1]\n",
    "\n",
    "# Get the values and indices of the first 5 elements\n",
    "top5_eigen = eigen_vector[sorted_indices[:5]]\n",
    "top5_eigen_indices = sorted_indices[:5]\n",
    "for i in top5_eigen_indices:\n",
    "    print(titles[i+1], round(eigen_vector[i],6))"
   ]
  },
  {
   "cell_type": "markdown",
   "metadata": {},
   "source": [
    "## TASK 4\n"
   ]
  },
  {
   "cell_type": "code",
   "execution_count": null,
   "metadata": {},
   "outputs": [
    {
     "ename": "",
     "evalue": "",
     "output_type": "error",
     "traceback": [
      "\u001b[1;31mThe kernel failed to start due to the missing module '_sqlite3'. Consider installing this module.\n",
      "\u001b[1;31mClick <a href='https://aka.ms/kernelFailuresMissingModule'>here</a> for more info."
     ]
    }
   ],
   "source": [
    "eigen_value = np.real(eigen_value)\n",
    "\n",
    "alpha = (0.85*(1/abs(eigen_value)))\n",
    "num_nodes = len(titles.keys())\n",
    "\n",
    "I = np.identity(num_nodes)\n",
    "u = np.ones(num_nodes)\n",
    "\n",
    "A = sparse_matrix.toarray()\n",
    "\n",
    "te = (I-alpha*A)\n",
    "\n",
    "inverted = np.linalg.inv(te)\n",
    "\n",
    "centrality_vector = (1/num_nodes)*inverted@u\n",
    "centrality_vector /= centrality_vector.sum()\n",
    "\n",
    "sorted_katz = np.argsort(centrality_vector)[::-1]\n",
    "\n",
    "# Get the values and indices of the first 5 elements\n",
    "katz_top5 = centrality_vector[sorted_katz[:5]]\n",
    "top5_eigen_indices = sorted_katz[:5]\n",
    "for i in sorted_katz[:5]:\n",
    "    print(titles[i+1], round(centrality_vector[i],6))\n"
   ]
  },
  {
   "cell_type": "markdown",
   "metadata": {},
   "source": [
    "## TASK 5"
   ]
  },
  {
   "cell_type": "code",
   "execution_count": null,
   "metadata": {},
   "outputs": [
    {
     "ename": "",
     "evalue": "",
     "output_type": "error",
     "traceback": [
      "\u001b[1;31mThe kernel failed to start due to the missing module '_sqlite3'. Consider installing this module.\n",
      "\u001b[1;31mClick <a href='https://aka.ms/kernelFailuresMissingModule'>here</a> for more info."
     ]
    }
   ],
   "source": [
    "cop = num_degrees_out.copy()\n",
    "kout = []\n",
    "for i in range(1, num_nodes+1):\n",
    "    if(i not in cop.keys()):\n",
    "        kout.append(0)\n",
    "    else:\n",
    "        kout.append(1/cop[i])\n",
    "H = A * kout\n",
    "alpha = 0.85\n",
    "u = np.ones(num_nodes)\n",
    "I = np.identity(num_nodes)\n",
    "aH = alpha*H\n",
    "inverted = np.linalg.inv(I-aH)\n",
    "closed_gp = ((1-alpha)/num_nodes)*inverted@u\n",
    "closed_gp /= closed_gp.sum()\n",
    "\n",
    "sorted_closed_gp = np.argsort(closed_gp)[::-1]\n",
    "\n",
    "for i in sorted_closed_gp[:5]:\n",
    "    print(titles[i+1], round(closed_gp[i],6))"
   ]
  },
  {
   "cell_type": "markdown",
   "metadata": {},
   "source": [
    "## TASK 6\n"
   ]
  },
  {
   "cell_type": "code",
   "execution_count": null,
   "metadata": {},
   "outputs": [
    {
     "ename": "",
     "evalue": "",
     "output_type": "error",
     "traceback": [
      "\u001b[1;31mThe kernel failed to start due to the missing module '_sqlite3'. Consider installing this module.\n",
      "\u001b[1;31mClick <a href='https://aka.ms/kernelFailuresMissingModule'>here</a> for more info."
     ]
    }
   ],
   "source": [
    "H = A * kout\n",
    "\n",
    "for i in range(num_nodes):\n",
    "    for j in range(num_nodes):\n",
    "        if(A[i][j] == 0 and kout[j]==0):\n",
    "            H[i][j] = 1/num_nodes"
   ]
  },
  {
   "cell_type": "code",
   "execution_count": null,
   "metadata": {},
   "outputs": [
    {
     "ename": "",
     "evalue": "",
     "output_type": "error",
     "traceback": [
      "\u001b[1;31mThe kernel failed to start due to the missing module '_sqlite3'. Consider installing this module.\n",
      "\u001b[1;31mClick <a href='https://aka.ms/kernelFailuresMissingModule'>here</a> for more info."
     ]
    }
   ],
   "source": [
    "\n",
    "\n",
    "alpha = 0.85\n",
    "uut = np.ones((num_nodes, num_nodes))\n",
    "G = alpha * H + ((1 - alpha) / num_nodes) * uut\n",
    "\n",
    "pg_vector = np.ones(num_nodes) / num_nodes\n",
    "num_iterations = 100\n",
    "\n",
    "iterations_values = []\n",
    "\n",
    "for i in range(num_iterations):\n",
    "    pg_vector = G @ pg_vector\n",
    "    pg_vector /= pg_vector.sum()\n",
    "    iterations_values.append(pg_vector)\n",
    "\n",
    "# Normalize once after the loop\n",
    "#pg_vector /= pg_vector.sum()\n"
   ]
  },
  {
   "cell_type": "code",
   "execution_count": null,
   "metadata": {},
   "outputs": [
    {
     "ename": "",
     "evalue": "",
     "output_type": "error",
     "traceback": [
      "\u001b[1;31mThe kernel failed to start due to the missing module '_sqlite3'. Consider installing this module.\n",
      "\u001b[1;31mClick <a href='https://aka.ms/kernelFailuresMissingModule'>here</a> for more info."
     ]
    }
   ],
   "source": [
    "\n",
    "top_three = sorted_closed_gp[:3]\n",
    "num1 = []\n",
    "num2 = []\n",
    "num3 = []\n",
    "\n",
    "for i in range(num_iterations):\n",
    "    num1.append(iterations_values[i][top_three[0]])\n",
    "    num2.append(iterations_values[i][top_three[1]])\n",
    "    num3.append(iterations_values[i][top_three[2]])\n"
   ]
  },
  {
   "cell_type": "code",
   "execution_count": null,
   "metadata": {},
   "outputs": [
    {
     "ename": "",
     "evalue": "",
     "output_type": "error",
     "traceback": [
      "\u001b[1;31mThe kernel failed to start due to the missing module '_sqlite3'. Consider installing this module.\n",
      "\u001b[1;31mClick <a href='https://aka.ms/kernelFailuresMissingModule'>here</a> for more info."
     ]
    }
   ],
   "source": [
    "import matplotlib.pyplot as plt\n",
    "\n",
    "x = range(num_iterations)\n",
    "\n",
    "plt.plot(x, num1, color='r', label=f\"iteration {titles[top_three[0]+1]}\")\n",
    "plt.plot(x, num2, color='g', label=f\"iteration {titles[top_three[1]+1]}\")\n",
    "plt.plot(x, num3, color='b', label=f\"iteration {titles[top_three[2]+1]}\")\n",
    "\n",
    "plt.axhline(y=closed_gp[top_three[0]], color='r', linestyle='--', label=f\"exact {titles[top_three[0]+1]}\")\n",
    "plt.axhline(y=closed_gp[top_three[1]], color='g', linestyle='--', label=f\"exact {titles[top_three[1]+1]}\")\n",
    "plt.axhline(y=closed_gp[top_three[2]], color='b', linestyle='--', label=f\"exact {titles[top_three[2]+1]}\")\n",
    "\n",
    "# Adding labels and legend\n",
    "plt.xlabel('Iteration')\n",
    "plt.ylabel('Centrality')\n",
    "plt.legend()\n",
    "\n",
    "# Display the plot\n",
    "plt.show()\n"
   ]
  },
  {
   "cell_type": "markdown",
   "metadata": {},
   "source": [
    "## TASK 7"
   ]
  },
  {
   "cell_type": "markdown",
   "metadata": {},
   "source": [
    "1. The in degree centrality for in, is pretty similar to the result of other ones. However it doesnt take in to consideration how the rest of the structure how the network looks like, so a node could have alot of not important nodes and still get a high centrality values. (spam links to website)\n",
    "\n",
    "2. Hub centrality is a measure of how good it connects to the network, similar to out-degree but also takes into considerations the in-degree of the nodes it is pointing to. Authority centrality measure of how good nodes is linked to by other nodes with high out-degree. \n",
    "\n",
    "3. Takes into consideration both in and out connections of nodes. Nodes pointed to by a single high centrality node will receive high score even though it main not be essential at all. Nodes wihout incoming will be zero, may not converge.\n",
    "\n",
    "4. Almost the same as eigenvector centrality but makes sure that nodes with no incoming links will get some centrality for free. Similar results to eigenvector but the highest scoring got a little lower values, because how the initial free centrality to some nodes. \n",
    "\n",
    "5. Solves the three main problems of the eigenvector centrality. Made the top nodes have a higher centrality score, because pagerank gives nodes that have a more global impact a higher centrality score."
   ]
  },
  {
   "cell_type": "markdown",
   "metadata": {},
   "source": [
    "## TASK 8"
   ]
  },
  {
   "cell_type": "markdown",
   "metadata": {},
   "source": [
    "They all have different use cases. #1 is good to get some general knowledge of how different nodes are central or not. #2 to find some important nodes seen out different perspectives. #3 find influential nodes #4 similar to #3 but makes nodes with no incoming links also have some authority in the network. #5 best to use to rank web pages get a better global perspective."
   ]
  }
 ],
 "metadata": {
  "kernelspec": {
   "display_name": "3",
   "language": "python",
   "name": "python3"
  },
  "language_info": {
   "codemirror_mode": {
    "name": "ipython",
    "version": 3
   },
   "file_extension": ".py",
   "mimetype": "text/x-python",
   "name": "python",
   "nbconvert_exporter": "python",
   "pygments_lexer": "ipython3",
   "version": "3.8.5"
  },
  "orig_nbformat": 4
 },
 "nbformat": 4,
 "nbformat_minor": 2
}
