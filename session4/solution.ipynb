{
 "cells": [
  {
   "cell_type": "code",
   "execution_count": 1,
   "metadata": {},
   "outputs": [],
   "source": [
    "import snap\n",
    "S = 10**4\n",
    "TPATH = \"/courses/TSKS33/ht2023/data/\"\n",
    "def genmod10star():   \n",
    "    #G1 = snap.GenPrefAttach(1000, 10)\n",
    "    #G1 = snap.GenRndPowerLaw(100000,2.2)\n",
    "    G = snap.GenStar(snap.PUNGraph,10,False)\n",
    "    G.AddEdge(4,5)\n",
    "    #G = snap.GetMxScc(G1)\n",
    "    N = G.GetNodes()\n",
    "    \n",
    "    # node numbering in the mat file is sequential n=1,2,... following the node iterator\n",
    "    # gio.h line 369\n",
    "#    snap.SaveMatlabSparseMtx(G, \"mod10star.mat\")\n",
    "\n",
    "    # assign the degree as attribute\n",
    "    x = snap.TIntFltH(N)\n",
    "#    file = open(\"mod10star_attr.mat\",'w') \n",
    "    for NI in G.Nodes():\n",
    "        n=NI.GetId()\n",
    "        x[n]=NI.GetDeg()\n",
    "#        file.write(str(n+1)+\"\\t\"+str(x[n])+\"\\n\")\n",
    "#        file.write(str(x[n])+\"\\n\")\n",
    "#    file.close()\n",
    "    \n",
    "    return G, x\n"
   ]
  },
  {
   "cell_type": "code",
   "execution_count": 2,
   "metadata": {},
   "outputs": [
    {
     "name": "stdout",
     "output_type": "stream",
     "text": [
      "-- expected values of <x>-hat -----\n",
      "uniform sampling: 2.0\n",
      "random connection of random node: 7.522\n"
     ]
    }
   ],
   "source": [
    "G, x = genmod10star()\n",
    "\n",
    "sum = 0\n",
    "for n in G.Nodes():\n",
    "    sum+=n.GetDeg()\n",
    "exact = sum/G.GetNodes()\n",
    "print(\"-- expected values of <x>-hat -----\")\n",
    "print(\"uniform sampling:\", exact)\n",
    "\n",
    "total_expected_degree = 0\n",
    "for i in G.Nodes():\n",
    "    node = G.GetNI(i.GetId())\n",
    "    tmp = 0\n",
    "    for nbr_id in node.GetOutEdges():\n",
    "        nbr = G.GetNI(nbr_id)\n",
    "        tmp += nbr.GetDeg()\n",
    "    total_expected_degree += (tmp / node.GetDeg())\n",
    "\n",
    "# Print the result\n",
    "print(\"random connection of random node:\", round(total_expected_degree/G.GetNodes(), 3))"
   ]
  },
  {
   "cell_type": "code",
   "execution_count": 37,
   "metadata": {},
   "outputs": [
    {
     "name": "stdout",
     "output_type": "stream",
     "text": [
      "2.0000000000000004\n"
     ]
    }
   ],
   "source": [
    "total_expected_degree = 0\n",
    "sum = 0\n",
    "for i in G.Nodes():\n",
    "    node = G.GetNI(i.GetId())\n",
    "    sum += node.GetDeg()/G.Get\n",
    "\n",
    "print(sum)"
   ]
  },
  {
   "cell_type": "code",
   "execution_count": null,
   "metadata": {},
   "outputs": [
    {
     "name": "stdout",
     "output_type": "stream",
     "text": [
      "uniform sampling: 2.0173\n",
      "uniform sampling: 2.0029\n",
      "uniform sampling: 2.0557\n",
      "uniform sampling: 1.9839\n",
      "uniform sampling: 1.969\n"
     ]
    }
   ],
   "source": [
    "num_runs = 5\n",
    "for i in range(num_runs):\n",
    "    tmp_sum = 0\n",
    "    Rnd = snap.TRnd(42)\n",
    "    Rnd.Randomize()\n",
    "    for i in range(S):\n",
    "        nid = G.GetRndNId(Rnd)\n",
    "        node = G.GetNI(nid)\n",
    "        tmp_sum += node.GetDeg()\n",
    "    print(\"uniform sampling:\", tmp_sum/S)\n"
   ]
  },
  {
   "cell_type": "code",
   "execution_count": null,
   "metadata": {},
   "outputs": [
    {
     "name": "stdout",
     "output_type": "stream",
     "text": [
      "random connection of random node: 7.542\n",
      "random connection of random node: 7.5532\n",
      "random connection of random node: 7.4758\n",
      "random connection of random node: 7.5411\n",
      "random connection of random node: 7.4898\n"
     ]
    }
   ],
   "source": [
    "import random\n",
    "for i in range(num_runs):\n",
    "    sum = 0\n",
    "    for i in range(S):\n",
    "        nid = G.GetRndNId(Rnd)\n",
    "        node = G.GetNI(nid)\n",
    "        e = random.randint(0, node.GetOutDeg()-1)\n",
    "        nbr = node.GetOutNId(e)\n",
    "        nbr = G.GetNI(nbr)\n",
    "        sum+=nbr.GetDeg()\n",
    "\n",
    "    print(\"random connection of random node:\", sum/S)"
   ]
  },
  {
   "cell_type": "code",
   "execution_count": null,
   "metadata": {},
   "outputs": [
    {
     "name": "stdout",
     "output_type": "stream",
     "text": [
      "uniform random walk: 4.7935\n",
      "uniform random walk: 4.7983\n",
      "uniform random walk: 4.8075\n",
      "uniform random walk: 4.8118\n",
      "uniform random walk: 4.7749\n"
     ]
    }
   ],
   "source": [
    "for i in range(num_runs):\n",
    "    sum = 0\n",
    "    node = G.GetNI(0)\n",
    "    for i in range(S):\n",
    "        nid = G.GetRndNId(Rnd)\n",
    "        node = G.GetNI(nid)\n",
    "    for i in range(S):\n",
    "        e = random.randint(0, node.GetOutDeg()-1)\n",
    "        nbr = node.GetOutNId(e)\n",
    "        node = G.GetNI(nbr)\n",
    "        sum += node.GetDeg()\n",
    "        \n",
    "\n",
    "    print(\"uniform random walk:\", sum/S)"
   ]
  },
  {
   "cell_type": "code",
   "execution_count": null,
   "metadata": {},
   "outputs": [
    {
     "name": "stdout",
     "output_type": "stream",
     "text": [
      "uniform random walk: 1.9805\n",
      "uniform random walk: 1.9974\n",
      "uniform random walk: 1.9937\n",
      "uniform random walk: 1.9433\n",
      "uniform random walk: 1.977\n"
     ]
    }
   ],
   "source": [
    "for i in range(num_runs):\n",
    "    sum = 0\n",
    "    node = G.GetNI(0)\n",
    "    for i in range(S):\n",
    "        nid = G.GetRndNId(Rnd)\n",
    "        node = G.GetNI(nid)\n",
    "\n",
    "    for i in range(S):\n",
    "        e = random.randint(0, node.GetOutDeg()-1)\n",
    "        nbr = node.GetOutNId(e)\n",
    "        nbr = G.GetNI(nbr)\n",
    "        nbr_deg = nbr.GetDeg()\n",
    "        node_deg = node.GetDeg()\n",
    "        sum += node_deg\n",
    "        if random.uniform(0, 1) < (node_deg/nbr_deg):\n",
    "            node = nbr\n",
    "    print(\"uniform random walk:\", sum/S)"
   ]
  }
 ],
 "metadata": {
  "kernelspec": {
   "display_name": "3",
   "language": "python",
   "name": "python3"
  },
  "language_info": {
   "codemirror_mode": {
    "name": "ipython",
    "version": 3
   },
   "file_extension": ".py",
   "mimetype": "text/x-python",
   "name": "python",
   "nbconvert_exporter": "python",
   "pygments_lexer": "ipython3",
   "version": "3.8.10"
  },
  "orig_nbformat": 4
 },
 "nbformat": 4,
 "nbformat_minor": 2
}
