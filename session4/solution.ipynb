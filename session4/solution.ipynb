{
 "cells": [
  {
   "cell_type": "code",
   "execution_count": 23,
   "metadata": {},
   "outputs": [],
   "source": [
    "import snap\n",
    "import random\n",
    "import numpy\n",
    "S = 10**4\n",
    "TPATH = \"/courses/TSKS33/ht2023/data/\"\n",
    "def genmod10star():   \n",
    "    #G1 = snap.GenPrefAttach(1000, 10)\n",
    "    #G1 = snap.GenRndPowerLaw(100000,2.2)\n",
    "    G = snap.GenStar(snap.PUNGraph,10,False)\n",
    "    G.AddEdge(4,5)\n",
    "    #G = snap.GetMxScc(G1)\n",
    "    N = G.GetNodes()\n",
    "    \n",
    "    # node numbering in the mat file is sequential n=1,2,... following the node iterator\n",
    "    # gio.h line 369\n",
    "#    snap.SaveMatlabSparseMtx(G, \"mod10star.mat\")\n",
    "\n",
    "    # assign the degree as attribute\n",
    "    x = snap.TIntFltH(N)\n",
    "#    file = open(\"mod10star_attr.mat\",'w') \n",
    "    for NI in G.Nodes():\n",
    "        n=NI.GetId()\n",
    "        x[n]=NI.GetDeg()\n",
    "#        file.write(str(n+1)+\"\\t\"+str(x[n])+\"\\n\")\n",
    "#        file.write(str(x[n])+\"\\n\")\n",
    "#    file.close()\n",
    "    \n",
    "    return G, x\n",
    "\n",
    "def genLiveJournal():   \n",
    "    G1 = snap.LoadEdgeList(snap.PUNGraph, TPATH + \"soc-LiveJournal1.txt\", 0, 1)\n",
    "    snap.DelSelfEdges(G1)\n",
    "    G = snap.GetMxScc(G1)\n",
    "#    print(snap.IsConnected(G))\n",
    "    N = G.GetNodes()\n",
    "\n",
    "#    snap.SaveMatlabSparseMtx(G, \"LiveJournal.mat\")\n",
    "\n",
    "    # assign synthetic data as attributes\n",
    "    x = snap.TIntFltH(N)\n",
    "#    file = open(\"LiveJournal_attr.mat\",'w') \n",
    "    for NI in G.Nodes():\n",
    "        n=NI.GetId()\n",
    "        k=NI.GetDeg()\n",
    "        x[n]=50000*(1+k/10.+0.1*numpy.sin(n))\n",
    "#        file.write(str(n+1)+\"\\t\"+str(x[n])+\"\\n\")\n",
    "#        file.write(str(x[n])+\"\\n\")\n",
    " \n",
    "#    file.close()\n",
    "    return G, x\n"
   ]
  },
  {
   "cell_type": "code",
   "execution_count": 25,
   "metadata": {},
   "outputs": [
    {
     "ename": "KeyboardInterrupt",
     "evalue": "",
     "output_type": "error",
     "traceback": [
      "\u001b[0;31m---------------------------------------------------------------------------\u001b[0m",
      "\u001b[0;31mKeyboardInterrupt\u001b[0m                         Traceback (most recent call last)",
      "\u001b[0;32m/tmp/ipykernel_637571/3186787154.py\u001b[0m in \u001b[0;36m<cell line: 1>\u001b[0;34m()\u001b[0m\n\u001b[0;32m----> 1\u001b[0;31m \u001b[0mG\u001b[0m\u001b[0;34m,\u001b[0m \u001b[0mx\u001b[0m \u001b[0;34m=\u001b[0m \u001b[0mgenLiveJournal\u001b[0m\u001b[0;34m(\u001b[0m\u001b[0;34m)\u001b[0m\u001b[0;34m\u001b[0m\u001b[0;34m\u001b[0m\u001b[0m\n\u001b[0m\u001b[1;32m      2\u001b[0m \u001b[0;34m\u001b[0m\u001b[0m\n\u001b[1;32m      3\u001b[0m \u001b[0msum\u001b[0m \u001b[0;34m=\u001b[0m \u001b[0;36m0\u001b[0m\u001b[0;34m\u001b[0m\u001b[0;34m\u001b[0m\u001b[0m\n\u001b[1;32m      4\u001b[0m \u001b[0;32mfor\u001b[0m \u001b[0mn\u001b[0m \u001b[0;32min\u001b[0m \u001b[0mG\u001b[0m\u001b[0;34m.\u001b[0m\u001b[0mNodes\u001b[0m\u001b[0;34m(\u001b[0m\u001b[0;34m)\u001b[0m\u001b[0;34m:\u001b[0m\u001b[0;34m\u001b[0m\u001b[0;34m\u001b[0m\u001b[0m\n\u001b[1;32m      5\u001b[0m     \u001b[0mt\u001b[0m \u001b[0;34m=\u001b[0m \u001b[0mx\u001b[0m\u001b[0;34m[\u001b[0m\u001b[0mn\u001b[0m\u001b[0;34m.\u001b[0m\u001b[0mGetId\u001b[0m\u001b[0;34m(\u001b[0m\u001b[0;34m)\u001b[0m\u001b[0;34m]\u001b[0m\u001b[0;34m\u001b[0m\u001b[0;34m\u001b[0m\u001b[0m\n",
      "\u001b[0;32m/tmp/ipykernel_637571/1148114102.py\u001b[0m in \u001b[0;36mgenLiveJournal\u001b[0;34m()\u001b[0m\n\u001b[1;32m     31\u001b[0m     \u001b[0mG1\u001b[0m \u001b[0;34m=\u001b[0m \u001b[0msnap\u001b[0m\u001b[0;34m.\u001b[0m\u001b[0mLoadEdgeList\u001b[0m\u001b[0;34m(\u001b[0m\u001b[0msnap\u001b[0m\u001b[0;34m.\u001b[0m\u001b[0mPUNGraph\u001b[0m\u001b[0;34m,\u001b[0m \u001b[0mTPATH\u001b[0m \u001b[0;34m+\u001b[0m \u001b[0;34m\"soc-LiveJournal1.txt\"\u001b[0m\u001b[0;34m,\u001b[0m \u001b[0;36m0\u001b[0m\u001b[0;34m,\u001b[0m \u001b[0;36m1\u001b[0m\u001b[0;34m)\u001b[0m\u001b[0;34m\u001b[0m\u001b[0;34m\u001b[0m\u001b[0m\n\u001b[1;32m     32\u001b[0m     \u001b[0msnap\u001b[0m\u001b[0;34m.\u001b[0m\u001b[0mDelSelfEdges\u001b[0m\u001b[0;34m(\u001b[0m\u001b[0mG1\u001b[0m\u001b[0;34m)\u001b[0m\u001b[0;34m\u001b[0m\u001b[0;34m\u001b[0m\u001b[0m\n\u001b[0;32m---> 33\u001b[0;31m     \u001b[0mG\u001b[0m \u001b[0;34m=\u001b[0m \u001b[0msnap\u001b[0m\u001b[0;34m.\u001b[0m\u001b[0mGetMxScc\u001b[0m\u001b[0;34m(\u001b[0m\u001b[0mG1\u001b[0m\u001b[0;34m)\u001b[0m\u001b[0;34m\u001b[0m\u001b[0;34m\u001b[0m\u001b[0m\n\u001b[0m\u001b[1;32m     34\u001b[0m \u001b[0;31m#    print(snap.IsConnected(G))\u001b[0m\u001b[0;34m\u001b[0m\u001b[0;34m\u001b[0m\u001b[0;34m\u001b[0m\u001b[0m\n\u001b[1;32m     35\u001b[0m     \u001b[0mN\u001b[0m \u001b[0;34m=\u001b[0m \u001b[0mG\u001b[0m\u001b[0;34m.\u001b[0m\u001b[0mGetNodes\u001b[0m\u001b[0;34m(\u001b[0m\u001b[0;34m)\u001b[0m\u001b[0;34m\u001b[0m\u001b[0;34m\u001b[0m\u001b[0m\n",
      "\u001b[0;32m/opt/liu/course-venv-tsks33/3/lib/python3.8/site-packages/snap/snap.py\u001b[0m in \u001b[0;36mGetMxScc\u001b[0;34m(tspec, *args)\u001b[0m\n\u001b[1;32m  33337\u001b[0m     \u001b[0;32mraise\u001b[0m \u001b[0mTypeError\u001b[0m\u001b[0;34m(\u001b[0m\u001b[0;34m'First argument has invalid type'\u001b[0m\u001b[0;34m)\u001b[0m\u001b[0;34m\u001b[0m\u001b[0;34m\u001b[0m\u001b[0m\n\u001b[1;32m  33338\u001b[0m \u001b[0;32mdef\u001b[0m \u001b[0mGetMxScc\u001b[0m\u001b[0;34m(\u001b[0m\u001b[0mtspec\u001b[0m\u001b[0;34m,\u001b[0m \u001b[0;34m*\u001b[0m\u001b[0margs\u001b[0m\u001b[0;34m)\u001b[0m\u001b[0;34m:\u001b[0m\u001b[0;34m\u001b[0m\u001b[0;34m\u001b[0m\u001b[0m\n\u001b[0;32m> 33339\u001b[0;31m     \u001b[0;32mif\u001b[0m \u001b[0mtype\u001b[0m\u001b[0;34m(\u001b[0m\u001b[0mtspec\u001b[0m\u001b[0;34m)\u001b[0m \u001b[0;34m==\u001b[0m \u001b[0mPUNGraph\u001b[0m\u001b[0;34m:\u001b[0m \u001b[0;32mreturn\u001b[0m \u001b[0mGetMxScc_PUNGraph\u001b[0m\u001b[0;34m(\u001b[0m\u001b[0mtspec\u001b[0m\u001b[0;34m,\u001b[0m \u001b[0;34m*\u001b[0m\u001b[0margs\u001b[0m\u001b[0;34m)\u001b[0m\u001b[0;34m\u001b[0m\u001b[0;34m\u001b[0m\u001b[0m\n\u001b[0m\u001b[1;32m  33340\u001b[0m     \u001b[0;32mif\u001b[0m \u001b[0mtype\u001b[0m\u001b[0;34m(\u001b[0m\u001b[0mtspec\u001b[0m\u001b[0;34m)\u001b[0m \u001b[0;34m==\u001b[0m \u001b[0mPUndirNet\u001b[0m\u001b[0;34m:\u001b[0m \u001b[0;32mreturn\u001b[0m \u001b[0mGetMxScc_PUndirNet\u001b[0m\u001b[0;34m(\u001b[0m\u001b[0mtspec\u001b[0m\u001b[0;34m,\u001b[0m \u001b[0;34m*\u001b[0m\u001b[0margs\u001b[0m\u001b[0;34m)\u001b[0m\u001b[0;34m\u001b[0m\u001b[0;34m\u001b[0m\u001b[0m\n\u001b[1;32m  33341\u001b[0m     \u001b[0;32mif\u001b[0m \u001b[0mtype\u001b[0m\u001b[0;34m(\u001b[0m\u001b[0mtspec\u001b[0m\u001b[0;34m)\u001b[0m \u001b[0;34m==\u001b[0m \u001b[0mPDirNet\u001b[0m\u001b[0;34m:\u001b[0m \u001b[0;32mreturn\u001b[0m \u001b[0mGetMxScc_PDirNet\u001b[0m\u001b[0;34m(\u001b[0m\u001b[0mtspec\u001b[0m\u001b[0;34m,\u001b[0m \u001b[0;34m*\u001b[0m\u001b[0margs\u001b[0m\u001b[0;34m)\u001b[0m\u001b[0;34m\u001b[0m\u001b[0;34m\u001b[0m\u001b[0m\n",
      "\u001b[0;31mKeyboardInterrupt\u001b[0m: "
     ]
    }
   ],
   "source": [
    "G, x = genLiveJournal()"
   ]
  },
  {
   "cell_type": "code",
   "execution_count": 39,
   "metadata": {},
   "outputs": [
    {
     "name": "stdout",
     "output_type": "stream",
     "text": [
      "random connection of random node: 598522.277\n"
     ]
    }
   ],
   "source": []
  },
  {
   "cell_type": "code",
   "execution_count": 40,
   "metadata": {},
   "outputs": [
    {
     "name": "stdout",
     "output_type": "stream",
     "text": [
      "-- expected values of <x>-hat -----\n",
      "uniform sampling: 138451.89439110097\n",
      "random connection of random node: 598522.277\n",
      "uniform random walk: 903319.3950024237\n",
      "M-H random walk: 138451.89439110097\n"
     ]
    }
   ],
   "source": [
    "\n",
    "sum = 0\n",
    "for n in G.Nodes():\n",
    "    t = x[n.GetId()]\n",
    "    sum+=t\n",
    "exact = sum/G.GetNodes()\n",
    "print(\"-- expected values of <x>-hat -----\")\n",
    "print(\"uniform sampling:\", exact)\n",
    "\n",
    "sum = 0\n",
    "for i in G.Nodes():\n",
    "    node = G.GetNI(i.GetId())\n",
    "    tmp = 0\n",
    "    for nbr_id in node.GetOutEdges():\n",
    "        nbr = G.GetNI(nbr_id)\n",
    "        t = x[nbr.GetId()]\n",
    "        tmp+=t\n",
    "    sum += (tmp / node.GetDeg())\n",
    "\n",
    "print(\"random connection of random node:\", round(sum/G.GetNodes(), 3))\n",
    "\n",
    "sum = 0\n",
    "\n",
    "for node in G.Nodes():\n",
    "    for nbr_id in node.GetOutEdges():\n",
    "        nbr = G.GetNI(nbr_id)\n",
    "        sum += x[nbr.GetId()]\n",
    "    \n",
    "print(\"uniform random walk:\", sum/(2*G.GetEdges()))\n",
    "\n",
    "sum = 0\n",
    "for n in G.Nodes():\n",
    "    t = x[n.GetId()]\n",
    "    sum+=t\n",
    "print(\"M-H random walk:\", sum/G.GetNodes())"
   ]
  },
  {
   "cell_type": "code",
   "execution_count": 32,
   "metadata": {},
   "outputs": [
    {
     "name": "stdout",
     "output_type": "stream",
     "text": [
      "uniform sampling: 138683.33896403696\n",
      "uniform sampling: 138559.0876252566\n",
      "uniform sampling: 133593.49784777864\n",
      "uniform sampling: 138557.16823338994\n",
      "uniform sampling: 141212.32718854563\n"
     ]
    }
   ],
   "source": [
    "num_runs = 5\n",
    "for i in range(num_runs):\n",
    "    tmp_sum = 0\n",
    "    Rnd = snap.TRnd(i)\n",
    "    Rnd.Randomize()\n",
    "    for i in range(S):\n",
    "        nid = G.GetRndNId(Rnd)\n",
    "        tmp_sum += x[nid]\n",
    "    print(\"uniform sampling:\", tmp_sum/S)\n"
   ]
  },
  {
   "cell_type": "code",
   "execution_count": 34,
   "metadata": {},
   "outputs": [
    {
     "name": "stdout",
     "output_type": "stream",
     "text": [
      "random connection of random node: 601513.5820804201\n",
      "random connection of random node: 595166.2953817098\n",
      "random connection of random node: 667870.9590805494\n",
      "random connection of random node: 641500.359067879\n",
      "random connection of random node: 624017.7049644771\n"
     ]
    }
   ],
   "source": [
    "import random\n",
    "for i in range(num_runs):\n",
    "    sum = 0\n",
    "    for i in range(S):\n",
    "        nid = G.GetRndNId(Rnd)\n",
    "        node = G.GetNI(nid)\n",
    "        e = random.randint(0, node.GetOutDeg()-1)\n",
    "        nbr = node.GetOutNId(e)\n",
    "        #nbr = G.GetNI(nbr)\n",
    "        sum+=x[nbr]\n",
    "\n",
    "    print(\"random connection of random node:\", sum/S)"
   ]
  },
  {
   "cell_type": "code",
   "execution_count": 36,
   "metadata": {},
   "outputs": [
    {
     "name": "stdout",
     "output_type": "stream",
     "text": [
      "uniform random walk: 902410.230411075\n",
      "uniform random walk: 795069.0669079883\n",
      "uniform random walk: 966658.1215538473\n",
      "uniform random walk: 1227003.7886536017\n",
      "uniform random walk: 765698.9496282376\n"
     ]
    }
   ],
   "source": [
    "for i in range(num_runs):\n",
    "    sum = 0\n",
    "    node = G.GetNI(0)\n",
    "    for i in range(S):\n",
    "        nid = G.GetRndNId(Rnd)\n",
    "        node = G.GetNI(nid)\n",
    "    for i in range(S):\n",
    "        e = random.randint(0, node.GetOutDeg()-1)\n",
    "        nbr = node.GetOutNId(e)\n",
    "        node = G.GetNI(nbr)\n",
    "        sum += x[nbr]\n",
    "    \n",
    "    print(\"uniform random walk:\", sum/S)"
   ]
  },
  {
   "cell_type": "code",
   "execution_count": 37,
   "metadata": {},
   "outputs": [
    {
     "name": "stdout",
     "output_type": "stream",
     "text": [
      "uniform random walk: 134065.4942059566\n",
      "uniform random walk: 138064.68589515277\n",
      "uniform random walk: 135464.13079592356\n",
      "uniform random walk: 129501.81654892623\n",
      "uniform random walk: 129942.15457139573\n"
     ]
    }
   ],
   "source": [
    "for i in range(num_runs):\n",
    "    sum = 0\n",
    "    node = G.GetNI(0)\n",
    "    for i in range(S):\n",
    "        nid = G.GetRndNId(Rnd)\n",
    "        node = G.GetNI(nid)\n",
    "\n",
    "    for i in range(S):\n",
    "        e = random.randint(0, node.GetOutDeg()-1)\n",
    "        nbr = node.GetOutNId(e)\n",
    "        nbr = G.GetNI(nbr)\n",
    "        nbr_deg = nbr.GetDeg()\n",
    "        node_deg = node.GetDeg()\n",
    "        sum += x[node.GetId()]\n",
    "        if random.uniform(0, 1) < (node_deg/nbr_deg):\n",
    "            node = nbr\n",
    "    print(\"uniform random walk:\", sum/S)"
   ]
  }
 ],
 "metadata": {
  "kernelspec": {
   "display_name": "3",
   "language": "python",
   "name": "python3"
  },
  "language_info": {
   "codemirror_mode": {
    "name": "ipython",
    "version": 3
   },
   "file_extension": ".py",
   "mimetype": "text/x-python",
   "name": "python",
   "nbconvert_exporter": "python",
   "pygments_lexer": "ipython3",
   "version": "3.8.10"
  },
  "orig_nbformat": 4
 },
 "nbformat": 4,
 "nbformat_minor": 2
}
