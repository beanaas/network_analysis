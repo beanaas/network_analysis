{
 "cells": [
  {
   "cell_type": "code",
   "execution_count": 1,
   "metadata": {},
   "outputs": [],
   "source": [
    "import snap\n",
    "import random\n",
    "import numpy\n",
    "S = 10**4\n",
    "TPATH = \"/courses/TSKS33/ht2023/data/\"\n",
    "def genmod10star():   \n",
    "    #G1 = snap.GenPrefAttach(1000, 10)\n",
    "    #G1 = snap.GenRndPowerLaw(100000,2.2)\n",
    "    G = snap.GenStar(snap.PUNGraph,10,False)\n",
    "    G.AddEdge(4,5)\n",
    "    #G = snap.GetMxScc(G1)\n",
    "    N = G.GetNodes()\n",
    "    \n",
    "    # node numbering in the mat file is sequential n=1,2,... following the node iterator\n",
    "    # gio.h line 369\n",
    "#    snap.SaveMatlabSparseMtx(G, \"mod10star.mat\")\n",
    "\n",
    "    # assign the degree as attribute\n",
    "    x = snap.TIntFltH(N)\n",
    "#    file = open(\"mod10star_attr.mat\",'w') \n",
    "    for NI in G.Nodes():\n",
    "        n=NI.GetId()\n",
    "        x[n]=NI.GetDeg()\n",
    "#        file.write(str(n+1)+\"\\t\"+str(x[n])+\"\\n\")\n",
    "#        file.write(str(x[n])+\"\\n\")\n",
    "#    file.close()\n",
    "    \n",
    "    return G, x\n",
    "\n",
    "def genLiveJournal():   \n",
    "    G1 = snap.LoadEdgeList(snap.PUNGraph, TPATH + \"soc-LiveJournal1.txt\", 0, 1)\n",
    "    snap.DelSelfEdges(G1)\n",
    "    G = snap.GetMxScc(G1)\n",
    "#    print(snap.IsConnected(G))\n",
    "    N = G.GetNodes()\n",
    "\n",
    "#    snap.SaveMatlabSparseMtx(G, \"LiveJournal.mat\")\n",
    "\n",
    "    # assign synthetic data as attributes\n",
    "    x = snap.TIntFltH(N)\n",
    "#    file = open(\"LiveJournal_attr.mat\",'w') \n",
    "    for NI in G.Nodes():\n",
    "        n=NI.GetId()\n",
    "        k=NI.GetDeg()\n",
    "        x[n]=50000*(1+k/10.+0.1*numpy.sin(n))\n",
    "#        file.write(str(n+1)+\"\\t\"+str(x[n])+\"\\n\")\n",
    "#        file.write(str(x[n])+\"\\n\")\n",
    " \n",
    "#    file.close()\n",
    "    return G, x\n"
   ]
  },
  {
   "cell_type": "code",
   "execution_count": 2,
   "metadata": {},
   "outputs": [],
   "source": [
    "G, x = genLiveJournal()"
   ]
  },
  {
   "cell_type": "code",
   "execution_count": 3,
   "metadata": {},
   "outputs": [
    {
     "name": "stdout",
     "output_type": "stream",
     "text": [
      "-- expected values of <x>-hat -----\n",
      "uniform sampling: 138451.894391101\n",
      "random connection of random node: 598522.277\n",
      "uniform random walk: 903319.3950024237\n",
      "M-H random walk: 138451.894391101\n"
     ]
    }
   ],
   "source": [
    "\n",
    "sum = 0\n",
    "for n in G.Nodes():\n",
    "    t = x[n.GetId()]\n",
    "    sum+=t\n",
    "exact = sum/G.GetNodes()\n",
    "print(\"-- expected values of <x>-hat -----\")\n",
    "print(\"uniform sampling:\", exact)\n",
    "\n",
    "sum = 0\n",
    "for i in G.Nodes():\n",
    "    node = G.GetNI(i.GetId())\n",
    "    tmp = 0\n",
    "    for nbr_id in node.GetOutEdges():\n",
    "        nbr = G.GetNI(nbr_id)\n",
    "        t = x[nbr.GetId()]\n",
    "        tmp+=t\n",
    "    sum += (tmp / node.GetDeg())\n",
    "\n",
    "print(\"random connection of random node:\", round(sum/G.GetNodes(), 3))\n",
    "\n",
    "sum = 0\n",
    "\n",
    "for node in G.Nodes():\n",
    "    for nbr_id in node.GetOutEdges():\n",
    "        nbr = G.GetNI(nbr_id)\n",
    "        sum += x[nbr.GetId()]\n",
    "    \n",
    "print(\"uniform random walk:\", sum/(2*G.GetEdges()))\n",
    "\n",
    "sum = 0\n",
    "for n in G.Nodes():\n",
    "    t = x[n.GetId()]\n",
    "    sum+=t\n",
    "print(\"M-H random walk:\", sum/G.GetNodes())"
   ]
  },
  {
   "cell_type": "code",
   "execution_count": 8,
   "metadata": {},
   "outputs": [
    {
     "name": "stdout",
     "output_type": "stream",
     "text": [
      "uniform sampling: 139571.70862823448\n",
      "uniform sampling: 137391.55129453787\n",
      "uniform sampling: 136302.2363130672\n",
      "uniform sampling: 140228.45370975218\n",
      "uniform sampling: 140897.03669778034\n"
     ]
    }
   ],
   "source": [
    "num_runs = 5\n",
    "for i in range(num_runs):\n",
    "    tmp_sum = 0\n",
    "    Rnd = snap.TRnd(i)\n",
    "    Rnd.Randomize()\n",
    "    for i in range(S):\n",
    "        nid = G.GetRndNId(Rnd)\n",
    "        tmp_sum += x[nid]\n",
    "    print(\"uniform sampling:\", tmp_sum/S)\n"
   ]
  },
  {
   "cell_type": "code",
   "execution_count": 9,
   "metadata": {},
   "outputs": [
    {
     "name": "stdout",
     "output_type": "stream",
     "text": [
      "random connection of random node: 581940.7437629229\n",
      "random connection of random node: 608974.2675531083\n",
      "random connection of random node: 563859.3260152295\n",
      "random connection of random node: 593283.6973837701\n",
      "random connection of random node: 579089.280687454\n"
     ]
    }
   ],
   "source": [
    "import random\n",
    "for i in range(num_runs):\n",
    "    sum = 0\n",
    "    for i in range(S):\n",
    "        nid = G.GetRndNId(Rnd)\n",
    "        node = G.GetNI(nid)\n",
    "        e = random.randint(0, node.GetOutDeg()-1)\n",
    "        nbr = node.GetOutNId(e)\n",
    "        #nbr = G.GetNI(nbr)\n",
    "        sum+=x[nbr]\n",
    "\n",
    "    print(\"random connection of random node:\", sum/S)"
   ]
  },
  {
   "cell_type": "code",
   "execution_count": 10,
   "metadata": {},
   "outputs": [
    {
     "name": "stdout",
     "output_type": "stream",
     "text": [
      "uniform random walk: 941757.5440663754\n",
      "uniform random walk: 873539.5150545037\n",
      "uniform random walk: 770676.1302613303\n",
      "uniform random walk: 802471.8977561916\n",
      "uniform random walk: 842939.0188768967\n"
     ]
    }
   ],
   "source": [
    "for i in range(num_runs):\n",
    "    sum = 0\n",
    "    node = G.GetNI(0)\n",
    "    for i in range(S):\n",
    "        nid = G.GetRndNId(Rnd)\n",
    "        node = G.GetNI(nid)\n",
    "    for i in range(S):\n",
    "        e = random.randint(0, node.GetOutDeg()-1)\n",
    "        nbr = node.GetOutNId(e)\n",
    "        node = G.GetNI(nbr)\n",
    "        sum += x[nbr]\n",
    "    \n",
    "    print(\"uniform random walk:\", sum/S)"
   ]
  },
  {
   "cell_type": "code",
   "execution_count": 12,
   "metadata": {},
   "outputs": [
    {
     "name": "stdout",
     "output_type": "stream",
     "text": [
      "M-H random walk: 125860.21529546317\n",
      "M-H random walk: 138447.0201811939\n",
      "M-H random walk: 158040.30810900117\n",
      "M-H random walk: 132008.9891004763\n",
      "M-H random walk: 124439.31907512297\n"
     ]
    }
   ],
   "source": [
    "for i in range(num_runs):\n",
    "    sum = 0\n",
    "    node = G.GetNI(0)\n",
    "    for i in range(S):\n",
    "        nid = G.GetRndNId(Rnd)\n",
    "        node = G.GetNI(nid)\n",
    "\n",
    "    for i in range(S):\n",
    "        e = random.randint(0, node.GetOutDeg()-1)\n",
    "        nbr = node.GetOutNId(e)\n",
    "        nbr = G.GetNI(nbr)\n",
    "        nbr_deg = nbr.GetDeg()\n",
    "        node_deg = node.GetDeg()\n",
    "        sum += x[node.GetId()]\n",
    "        if random.uniform(0, 1) < (node_deg/nbr_deg):\n",
    "            node = nbr\n",
    "    print(\"M-H random walk:\", sum/S)"
   ]
  }
 ],
 "metadata": {
  "kernelspec": {
   "display_name": "3",
   "language": "python",
   "name": "python3"
  },
  "language_info": {
   "codemirror_mode": {
    "name": "ipython",
    "version": 3
   },
   "file_extension": ".py",
   "mimetype": "text/x-python",
   "name": "python",
   "nbconvert_exporter": "python",
   "pygments_lexer": "ipython3",
   "version": "3.8.10"
  },
  "orig_nbformat": 4
 },
 "nbformat": 4,
 "nbformat_minor": 2
}
