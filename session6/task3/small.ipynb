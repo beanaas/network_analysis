{
 "cells": [
  {
   "cell_type": "code",
   "execution_count": 2,
   "metadata": {},
   "outputs": [
    {
     "name": "stdout",
     "output_type": "stream",
     "text": [
      "--- circle network ---\n",
      "22499.75\n",
      "Randomizing edges (100000, 200000)...\n",
      "atem,pt  10.744726500638137\n",
      "  total 40000k switchings attempted, 3k skiped  [16.14s]\n"
     ]
    }
   ],
   "source": [
    "#!/usr/bin/env python3\n",
    "# -*- coding: utf-8 -*-\n",
    "\"\"\"\n",
    "TSKS33 hands-on session 6 task 4\n",
    "\n",
    "Small world experiments\n",
    "\n",
    "Erik G. Larsson, 2018-2020\n",
    "\"\"\"\n",
    "\n",
    "import snap\n",
    "\n",
    "N=1000*100\n",
    "\n",
    "# circle network\n",
    "print(\"--- circle network ---\")\n",
    "G1=snap.GenSmallWorld(N, 2, 0)\n",
    "print (snap.GetBfsEffDiam(G1, 250, False))\n",
    "G1r=snap.GenRewire(G1, 100)\n",
    "print(\"atem,pt \", snap.GetBfsEffDiam(G1r, 250, False))\n",
    "\n",
    "\n"
   ]
  },
  {
   "cell_type": "code",
   "execution_count": 34,
   "metadata": {},
   "outputs": [
    {
     "name": "stdout",
     "output_type": "stream",
     "text": [
      "--- WS 0.01 ---\n",
      "82.61324330896763\n",
      "Randomizing edges (100000, 200000)...\n",
      "  36200k/40000k10.742135339019251\n",
      "  total 40000k switchings attempted, 3k skiped  [17.51s]\n"
     ]
    }
   ],
   "source": [
    "\n",
    "# Watt-Strogatz, 0.01\n",
    "print(\"--- WS 0.01 ---\")\n",
    "G2=snap.GenSmallWorld(N, 2, 0.01)\n",
    "print (snap.GetBfsEffDiam(G2, 250, False))\n",
    "G2r=snap.GenRewire(G2, 100)\n",
    "print (snap.GetBfsEffDiam(G2r, 250, False))\n",
    "\n"
   ]
  },
  {
   "cell_type": "code",
   "execution_count": 35,
   "metadata": {},
   "outputs": [
    {
     "name": "stdout",
     "output_type": "stream",
     "text": [
      "--- WS 0.1 ---\n",
      "18.498451705307197\n",
      "Randomizing edges (100000, 200000)...\n",
      "10.629187089895403\n",
      "  total 40000k switchings attempted, 3k skiped  [19.64s]\n"
     ]
    }
   ],
   "source": [
    "# Watt-Strogatz, 0.1\n",
    "print(\"--- WS 0.1 ---\")\n",
    "G3=snap.GenSmallWorld(N, 2, 0.1)\n",
    "print (snap.GetBfsEffDiam(G3, 250, False))\n",
    "G3r=snap.GenRewire(G3, 100)\n",
    "print (snap.GetBfsEffDiam(G3r, 250, False))\n",
    "\n"
   ]
  },
  {
   "cell_type": "code",
   "execution_count": 38,
   "metadata": {},
   "outputs": [
    {
     "name": "stdout",
     "output_type": "stream",
     "text": [
      "--- scale-free ---\n",
      "100000 nodes, 495429 edges\n",
      " configuration model: iter 168470: edges############ft: 891549\n",
      "4.819761796475637\n",
      "############\n",
      " configuration model: iter 242795: edges: 236375, left: 49199\n",
      "Randomizing edges (100000, 238127)...\n",
      "  33099k4.850167848396923ip [16.35s]\n",
      "  total 47625k switchings attempted, 4008k skiped  [22.99s]\n"
     ]
    }
   ],
   "source": [
    "# scale-free network\n",
    "print(\"--- scale-free ---\")\n",
    "G4=snap.GenRndPowerLaw (N, 2.2, True)\n",
    "#snap.PrintInfo(G4, \"scale-free\")\n",
    "#snap.PlotInDegDistr(G4,\"scale-free\",\"scale-free\")\n",
    "print(\"############\")\n",
    "print (snap.GetBfsEffDiam(G4, 250, False))\n",
    "G4r=snap.GenRewire(G4, 100)\n",
    "print(\"############\")\n",
    "print (snap.GetBfsEffDiam(G4r, 250, False))\n",
    "\n"
   ]
  },
  {
   "cell_type": "code",
   "execution_count": 3,
   "metadata": {},
   "outputs": [
    {
     "name": "stdout",
     "output_type": "stream",
     "text": [
      "--- amazon ---\n",
      "0.4197800146076079\n",
      "amazon:\n",
      "  Nodes:                    262111\n",
      "  Edges:                    899792\n",
      "  Zero Deg Nodes:           0\n",
      "  Zero InDeg Nodes:         0\n",
      "  Zero OutDeg Nodes:        0\n",
      "  NonZero In-Out Deg Nodes: 262111\n",
      "10.901563848495272\n",
      "Randomizing edges (262111, 899792)...\n",
      "  51288k/179958k: 8k skip [41.27s]6.65288286191036\n",
      "  total 179958k switchings attempted, 30k skiped  [02m18s]\n"
     ]
    }
   ],
   "source": [
    "# Amazon network\n",
    "print(\"--- amazon ---\")\n",
    "G5=snap.LoadEdgeList(snap.PUNGraph, \"/courses/TSKS33/ht2023/data/amazon0302.txt\", 0, 1)\n",
    "\n",
    "Cf, CfVec = G5.GetClustCf(True, -1)\n",
    "print(Cf)\n",
    "snap.PrintInfo(G5, \"amazon\")\n",
    "snap.PlotInDegDistr(G5,\"amazon\",\"amazon\")\n",
    "print (snap.GetBfsEffDiam(G5, 250, False))\n",
    "G5r=snap.GenRewire(G5, 100)\n",
    "print (snap.GetBfsEffDiam(G5r, 250, False))"
   ]
  }
 ],
 "metadata": {
  "kernelspec": {
   "display_name": "3",
   "language": "python",
   "name": "python3"
  },
  "language_info": {
   "codemirror_mode": {
    "name": "ipython",
    "version": 3
   },
   "file_extension": ".py",
   "mimetype": "text/x-python",
   "name": "python",
   "nbconvert_exporter": "python",
   "pygments_lexer": "ipython3",
   "version": "3.8.10"
  },
  "orig_nbformat": 4
 },
 "nbformat": 4,
 "nbformat_minor": 2
}
