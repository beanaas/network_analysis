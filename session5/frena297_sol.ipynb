{
 "cells": [
  {
   "cell_type": "code",
   "execution_count": 1,
   "metadata": {},
   "outputs": [],
   "source": [
    "### GENERATE\n",
    "#!/usr/bin/env python3\n",
    "# -*- coding: utf-8 -*-\n",
    "\"\"\"\n",
    "TSKS33 Load data for hands-on session 5\n",
    "\n",
    "Erik G. Larsson 2020\n",
    "\"\"\"\n",
    "\n",
    "import sys\n",
    "import snap\n",
    "import numpy\n",
    "sys.path.append(\"/courses/TSKS33/ht2023/common-functions\")\n",
    "from save_Gephi_gexf import saveGephi_gexf\n",
    "from save_Gephi_gexf import saveGephi_gexf_twocolors\n",
    "from gen_stochblock import gen_stoch_block_2comm\n",
    "\n",
    "\n",
    "\n",
    "### GENERATE\n",
    "\n",
    "#G1=gen_stoch_block_2comm(700,300,3.0/700,3.0/300,0.1/(700+300))\n",
    "G1=gen_stoch_block_2comm(700,300,10.0/700,10.0/300,0.3/(700+300))\n",
    "G=snap.GetMxScc(G1)\n",
    "snap.SaveEdgeList(G, \"SB-small-network.txt\")\n",
    "\n",
    "G1=gen_stoch_block_2comm(10000,5000,3.0/10000,3.0/5000,0.1/(10000+5000))\n",
    "G=snap.GetMxScc(G1)\n",
    "snap.SaveEdgeList(G, \"SB-large-network.txt\")\n",
    "\n",
    "\n",
    "### LOAD FROM FILES\n",
    "\n",
    "G = snap.LoadEdgeList(snap.PUNGraph, \"test-network.txt\", 0, 1)\n",
    "#snap.SaveMatlabSparseMtx(G, \"test-network.mat\")\n",
    "\n",
    "G = snap.LoadEdgeList(snap.PUNGraph, \"karate-network.txt\", 0, 1)\n",
    "#snap.SaveMatlabSparseMtx(G, \"karate-network.mat\")\n",
    "\n",
    "G = snap.LoadEdgeList(snap.PUNGraph, \"SB-small-network.txt\", 0, 1)\n",
    "#snap.SaveMatlabSparseMtx(G, \"SB-small-network.mat\")\n",
    "\n",
    "G = snap.LoadEdgeList(snap.PUNGraph, \"SB-large-network.txt\", 0, 1)\n",
    "#snap.SaveMatlabSparseMtx(G, \"SB-large-network.mat\")\n",
    "\n",
    "#G1=gen_stoch_block_2comm(700,300,3.0/700,3.0/300,0.1/(700+300))\n",
    "G1=gen_stoch_block_2comm(700,300,10.0/700,10.0/300,0.3/(700+300))\n",
    "G=snap.GetMxScc(G1)\n",
    "snap.SaveEdgeList(G, \"SB-small-network.txt\")\n",
    "\n",
    "G1=gen_stoch_block_2comm(10000,5000,3.0/10000,3.0/5000,0.1/(10000+5000))\n",
    "G=snap.GetMxScc(G1)\n",
    "snap.SaveEdgeList(G, \"SB-large-network.txt\")\n",
    "\n",
    "\n",
    "### LOAD FROM FILES\n",
    "\n",
    "G = snap.LoadEdgeList(snap.PUNGraph, \"test-network.txt\", 0, 1)\n",
    "#snap.SaveMatlabSparseMtx(G, \"test-network.mat\")\n",
    "\n",
    "#G = snap.LoadEdgeList(snap.PUNGraph, \"karate-network.txt\", 0, 1)\n",
    "#snap.SaveMatlabSparseMtx(G, \"karate-network.mat\")\n",
    "\n",
    "#G = snap.LoadEdgeList(snap.PUNGraph, \"SB-small-network.txt\", 0, 1)\n",
    "#snap.SaveMatlabSparseMtx(G, \"SB-small-network.mat\")\n",
    "\n",
    "#G = snap.LoadEdgeList(snap.PUNGraph, \"SB-large-network.txt\", 0, 1)\n",
    "#snap.SaveMatlabSparseMtx(G, \"SB-large-network.mat\")\n"
   ]
  },
  {
   "cell_type": "code",
   "execution_count": 2,
   "metadata": {},
   "outputs": [],
   "source": [
    "G = snap.LoadEdgeList(snap.PUNGraph, \"SB-large-network.txt\", 0, 1)\n",
    "\n",
    "num_nodes = G.GetNodes()\n",
    "num_edges = G.GetEdges()\n",
    "import scipy.sparse as sp\n",
    "import numpy as np\n",
    "\n",
    "def create_sparse_matrix(snapGraph: snap.PUNGraph):\n",
    "    rows = []\n",
    "    cols = []\n",
    "    data = []\n",
    "    \n",
    "    for edge in G.Edges():\n",
    "        rows.append(edge.GetSrcNId()-1)\n",
    "        cols.append(edge.GetDstNId()-1)\n",
    "        data.append(1) \n",
    "    coo_matrix = sp.coo_matrix((data, (rows, cols)), shape=(num_nodes, num_nodes))\n",
    "    return coo_matrix\n",
    "\n",
    "\n",
    "\n",
    "def getA(snapGraph: snap.PUNGraph):\n",
    "    A = np.zeros((num_nodes, num_nodes))\n",
    "    for edge in snapGraph.Edges():\n",
    "        A[edge.GetSrcNId()-1][edge.GetDstNId()-1] = 1\n",
    "    return A\n",
    "    \n",
    "def getZ(sparse_matrix: sp.coo_matrix):\n",
    "    sub_matrix = np.ones((num_nodes, num_nodes))/(2*num_edges)\n",
    "    result_matrix = sp.coo_matrix(sparse_matrix.toarray()-sub_matrix)\n",
    "    return result_matrix\n",
    "\n",
    "def getK(snapGraph: snap.PUNGraph):\n",
    "    i = 0\n",
    "    k = np.zeros(num_nodes)\n",
    "    for node in snapGraph.Nodes():\n",
    "        k[i] = node.GetDeg()\n",
    "        i+=1\n",
    "    return k\n",
    "    \n"
   ]
  },
  {
   "cell_type": "code",
   "execution_count": 4,
   "metadata": {},
   "outputs": [
    {
     "name": "stdout",
     "output_type": "stream",
     "text": [
      "largest-magnitude eigenvalue:  -0.06715685581527726\n",
      "largest-positive eigenvalue:  4.381872022654541\n",
      "largest-positive eigenvector: \n",
      " [[ 2.79463268e-03]\n",
      " [ 6.85124571e-04]\n",
      " [ 8.70295610e-05]\n",
      " ...\n",
      " [-2.10767038e-03]\n",
      " [-6.67654747e-03]\n",
      " [-1.42270968e-02]]\n"
     ]
    }
   ],
   "source": [
    "import snap_scipy\n",
    "import scipy.sparse as sp\n",
    "import numpy as np\n",
    "G = snap.LoadEdgeList(snap.PUNGraph, \"SB-large-network.txt\", 0, 1)\n",
    "A = snap_scipy.to_sparse_mat(G)\n",
    "k = np.sum(A, axis=1)\n",
    "\n",
    "num_nodes = G.GetNodes()\n",
    "num_edges = G.GetEdges()\n",
    "\n",
    "def power_method(A):\n",
    "    x = np.random.rand(num_nodes, 1)\n",
    "    for _ in range(250):\n",
    "        x = (A@x) - ((k@(k.T@x))/(2*num_edges))\n",
    "        x /= np.linalg.norm(x)\n",
    "        eig = x.T@((A@x) - ((k@(k.T@x))/(2*num_edges)))\n",
    "    return x, eig.item()\n",
    "\n",
    "def find_eigenvector_corresponding_to_largest_eigen_value(A):\n",
    "    x, lambda_hat = power_method(A)\n",
    "    print(\"largest-magnitude eigenvalue: \", lambda_hat)\n",
    "    if(lambda_hat>0):\n",
    "        print(\"largest-positive eigenvalue: \", lambda_hat)\n",
    "        print(\"largest-positive eigenvector: \\n\", x)\n",
    "        return x, lambda_hat\n",
    "    else:\n",
    "        lambda_old = lambda_hat\n",
    "        new_A = A-np.eye(num_nodes)*lambda_hat\n",
    "        x, lambda_hat = power_method(new_A)\n",
    "        print(\"largest-positive eigenvalue: \", lambda_hat+lambda_old)\n",
    "        print(\"largest-positive eigenvector: \\n\", x)\n",
    "        return x, lambda_hat\n",
    "\n",
    "\n",
    "\n",
    "x, lambda_hat = find_eigenvector_corresponding_to_largest_eigen_value(A)\n"
   ]
  },
  {
   "cell_type": "code",
   "execution_count": 8,
   "metadata": {},
   "outputs": [
    {
     "name": "stdout",
     "output_type": "stream",
     "text": [
      "[[ 1]\n",
      " [ 1]\n",
      " [ 1]\n",
      " ...\n",
      " [-1]\n",
      " [-1]\n",
      " [-1]]\n"
     ]
    }
   ],
   "source": [
    "\n",
    "\n"
   ]
  },
  {
   "cell_type": "code",
   "execution_count": 4,
   "metadata": {},
   "outputs": [],
   "source": [
    "from save_Gephi_gexf import save_csrmatrix_Gephi_gexf_twocolors\n",
    "save_csrmatrix_Gephi_gexf_twocolors(A, \"large_sb.gexf\", x)"
   ]
  },
  {
   "cell_type": "code",
   "execution_count": 9,
   "metadata": {},
   "outputs": [
    {
     "name": "stdout",
     "output_type": "stream",
     "text": [
      "[[0.34460015]]\n"
     ]
    }
   ],
   "source": [
    "A = snap_scipy.to_sparse_mat(G)\n",
    "k = np.sum(A, axis=1)\n",
    "num_edges = G.GetEdges()\n",
    "kkt = np.outer(k, k)/(2*num_edges)\n",
    "kkt_sparse = sp.csr_matrix(kkt)\n",
    "Z = A - kkt_sparse\n",
    "\n",
    "s = np.where(x > 0, 1, -1)\n",
    "\n",
    "Q = (s.T@Z.toarray()@s)/(4*num_edges)\n",
    "\n",
    "print(Q)"
   ]
  },
  {
   "cell_type": "code",
   "execution_count": 6,
   "metadata": {},
   "outputs": [],
   "source": [
    "#eigs = np.linalg.eigvals(Z.toarray())"
   ]
  },
  {
   "cell_type": "code",
   "execution_count": 7,
   "metadata": {},
   "outputs": [],
   "source": [
    "from scipy.sparse.linalg import eigsh\n",
    "eigenvalues_sparse, _ = eigsh(sp.csr_matrix(Z), k=5, which='LM')"
   ]
  },
  {
   "cell_type": "code",
   "execution_count": 8,
   "metadata": {},
   "outputs": [
    {
     "name": "stdout",
     "output_type": "stream",
     "text": [
      "[-4.37853191 -4.09413895  4.09497283  4.24939909  4.38187269]\n"
     ]
    }
   ],
   "source": [
    "print(eigenvalues_sparse)"
   ]
  }
 ],
 "metadata": {
  "kernelspec": {
   "display_name": "3",
   "language": "python",
   "name": "python3"
  },
  "language_info": {
   "codemirror_mode": {
    "name": "ipython",
    "version": 3
   },
   "file_extension": ".py",
   "mimetype": "text/x-python",
   "name": "python",
   "nbconvert_exporter": "python",
   "pygments_lexer": "ipython3",
   "version": "3.8.10"
  },
  "orig_nbformat": 4
 },
 "nbformat": 4,
 "nbformat_minor": 2
}
