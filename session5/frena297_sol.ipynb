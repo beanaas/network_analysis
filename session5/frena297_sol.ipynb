{
 "cells": [
  {
   "cell_type": "code",
   "execution_count": 2,
   "metadata": {},
   "outputs": [
    {
     "ename": "KeyboardInterrupt",
     "evalue": "",
     "output_type": "error",
     "traceback": [
      "\u001b[0;31m---------------------------------------------------------------------------\u001b[0m",
      "\u001b[0;31mKeyboardInterrupt\u001b[0m                         Traceback (most recent call last)",
      "\u001b[0;32m/tmp/ipykernel_722973/1878400242.py\u001b[0m in \u001b[0;36m<cell line: 69>\u001b[0;34m()\u001b[0m\n\u001b[1;32m     67\u001b[0m \u001b[0msnap\u001b[0m\u001b[0;34m.\u001b[0m\u001b[0mSaveEdgeList\u001b[0m\u001b[0;34m(\u001b[0m\u001b[0mG\u001b[0m\u001b[0;34m,\u001b[0m \u001b[0;34m\"SB-small-network.txt\"\u001b[0m\u001b[0;34m)\u001b[0m\u001b[0;34m\u001b[0m\u001b[0;34m\u001b[0m\u001b[0m\n\u001b[1;32m     68\u001b[0m \u001b[0;34m\u001b[0m\u001b[0m\n\u001b[0;32m---> 69\u001b[0;31m \u001b[0mG1\u001b[0m\u001b[0;34m=\u001b[0m\u001b[0mgen_stoch_block_2comm\u001b[0m\u001b[0;34m(\u001b[0m\u001b[0;36m10000\u001b[0m\u001b[0;34m,\u001b[0m\u001b[0;36m5000\u001b[0m\u001b[0;34m,\u001b[0m\u001b[0;36m3.0\u001b[0m\u001b[0;34m/\u001b[0m\u001b[0;36m10000\u001b[0m\u001b[0;34m,\u001b[0m\u001b[0;36m3.0\u001b[0m\u001b[0;34m/\u001b[0m\u001b[0;36m5000\u001b[0m\u001b[0;34m,\u001b[0m\u001b[0;36m0.1\u001b[0m\u001b[0;34m/\u001b[0m\u001b[0;34m(\u001b[0m\u001b[0;36m10000\u001b[0m\u001b[0;34m+\u001b[0m\u001b[0;36m5000\u001b[0m\u001b[0;34m)\u001b[0m\u001b[0;34m)\u001b[0m\u001b[0;34m\u001b[0m\u001b[0;34m\u001b[0m\u001b[0m\n\u001b[0m\u001b[1;32m     70\u001b[0m \u001b[0mG\u001b[0m\u001b[0;34m=\u001b[0m\u001b[0msnap\u001b[0m\u001b[0;34m.\u001b[0m\u001b[0mGetMxScc\u001b[0m\u001b[0;34m(\u001b[0m\u001b[0mG1\u001b[0m\u001b[0;34m)\u001b[0m\u001b[0;34m\u001b[0m\u001b[0;34m\u001b[0m\u001b[0m\n\u001b[1;32m     71\u001b[0m \u001b[0msnap\u001b[0m\u001b[0;34m.\u001b[0m\u001b[0mSaveEdgeList\u001b[0m\u001b[0;34m(\u001b[0m\u001b[0mG\u001b[0m\u001b[0;34m,\u001b[0m \u001b[0;34m\"SB-large-network.txt\"\u001b[0m\u001b[0;34m)\u001b[0m\u001b[0;34m\u001b[0m\u001b[0;34m\u001b[0m\u001b[0m\n",
      "\u001b[0;32m~/TSKS33-sandbox/session5/gen_stochblock.py\u001b[0m in \u001b[0;36mgen_stoch_block_2comm\u001b[0;34m(N1, N2, p1, p2, p12)\u001b[0m\n\u001b[1;32m     22\u001b[0m     \u001b[0;32mfor\u001b[0m \u001b[0mn\u001b[0m \u001b[0;32min\u001b[0m \u001b[0mrange\u001b[0m\u001b[0;34m(\u001b[0m\u001b[0mN1\u001b[0m\u001b[0;34m)\u001b[0m\u001b[0;34m:\u001b[0m\u001b[0;34m\u001b[0m\u001b[0;34m\u001b[0m\u001b[0m\n\u001b[1;32m     23\u001b[0m         \u001b[0;32mfor\u001b[0m \u001b[0mn1\u001b[0m \u001b[0;32min\u001b[0m \u001b[0mrange\u001b[0m\u001b[0;34m(\u001b[0m\u001b[0mN1\u001b[0m\u001b[0;34m)\u001b[0m\u001b[0;34m:\u001b[0m\u001b[0;34m\u001b[0m\u001b[0;34m\u001b[0m\u001b[0m\n\u001b[0;32m---> 24\u001b[0;31m             \u001b[0;32mif\u001b[0m \u001b[0msnap\u001b[0m\u001b[0;34m.\u001b[0m\u001b[0mTFlt\u001b[0m\u001b[0;34m.\u001b[0m\u001b[0mGetRnd\u001b[0m\u001b[0;34m(\u001b[0m\u001b[0;34m)\u001b[0m\u001b[0;34m<\u001b[0m\u001b[0mp1\u001b[0m \u001b[0;32mand\u001b[0m \u001b[0mn1\u001b[0m\u001b[0;34m>\u001b[0m\u001b[0mn\u001b[0m\u001b[0;34m:\u001b[0m\u001b[0;34m\u001b[0m\u001b[0;34m\u001b[0m\u001b[0m\n\u001b[0m\u001b[1;32m     25\u001b[0m                 \u001b[0mG\u001b[0m\u001b[0;34m.\u001b[0m\u001b[0mAddEdge\u001b[0m\u001b[0;34m(\u001b[0m\u001b[0mn\u001b[0m\u001b[0;34m,\u001b[0m\u001b[0mn1\u001b[0m\u001b[0;34m)\u001b[0m\u001b[0;34m\u001b[0m\u001b[0;34m\u001b[0m\u001b[0m\n\u001b[1;32m     26\u001b[0m     \u001b[0;32mfor\u001b[0m \u001b[0mn\u001b[0m \u001b[0;32min\u001b[0m \u001b[0mrange\u001b[0m\u001b[0;34m(\u001b[0m\u001b[0mN2\u001b[0m\u001b[0;34m)\u001b[0m\u001b[0;34m:\u001b[0m\u001b[0;34m\u001b[0m\u001b[0;34m\u001b[0m\u001b[0m\n",
      "\u001b[0;31mKeyboardInterrupt\u001b[0m: "
     ]
    }
   ],
   "source": [
    "### GENERATE\n",
    "#!/usr/bin/env python3\n",
    "# -*- coding: utf-8 -*-\n",
    "\"\"\"\n",
    "TSKS33 Load data for hands-on session 5\n",
    "\n",
    "Erik G. Larsson 2020\n",
    "\"\"\"\n",
    "\n",
    "import sys\n",
    "import snap\n",
    "import numpy\n",
    "sys.path.append(\"/courses/TSKS33/ht2023/common-functions\")\n",
    "from save_Gephi_gexf import saveGephi_gexf\n",
    "from save_Gephi_gexf import saveGephi_gexf_twocolors\n",
    "from gen_stochblock import gen_stoch_block_2comm\n",
    "\n",
    "\n",
    "\n",
    "### GENERATE\n",
    "\n",
    "#G1=gen_stoch_block_2comm(700,300,3.0/700,3.0/300,0.1/(700+300))\n",
    "G1=gen_stoch_block_2comm(700,300,10.0/700,10.0/300,0.3/(700+300))\n",
    "G=snap.GetMxScc(G1)\n",
    "snap.SaveEdgeList(G, \"SB-small-network.txt\")\n",
    "\n",
    "G1=gen_stoch_block_2comm(10000,5000,3.0/10000,3.0/5000,0.1/(10000+5000))\n",
    "G=snap.GetMxScc(G1)\n",
    "snap.SaveEdgeList(G, \"SB-large-network.txt\")\n",
    "\n",
    "\n",
    "### LOAD FROM FILES\n",
    "\n",
    "G = snap.LoadEdgeList(snap.PUNGraph, \"test-network.txt\", 0, 1)\n",
    "#snap.SaveMatlabSparseMtx(G, \"test-network.mat\")\n",
    "\n",
    "G = snap.LoadEdgeList(snap.PUNGraph, \"karate-network.txt\", 0, 1)\n",
    "#snap.SaveMatlabSparseMtx(G, \"karate-network.mat\")\n",
    "\n",
    "G = snap.LoadEdgeList(snap.PUNGraph, \"SB-small-network.txt\", 0, 1)\n",
    "#snap.SaveMatlabSparseMtx(G, \"SB-small-network.mat\")\n",
    "\n",
    "G = snap.LoadEdgeList(snap.PUNGraph, \"SB-large-network.txt\", 0, 1)\n",
    "#snap.SaveMatlabSparseMtx(G, \"SB-large-network.mat\")\n",
    "\n",
    "#G1=gen_stoch_block_2comm(700,300,3.0/700,3.0/300,0.1/(700+300))\n",
    "G1=gen_stoch_block_2comm(700,300,10.0/700,10.0/300,0.3/(700+300))\n",
    "G=snap.GetMxScc(G1)\n",
    "snap.SaveEdgeList(G, \"SB-small-network.txt\")\n",
    "\n",
    "G1=gen_stoch_block_2comm(10000,5000,3.0/10000,3.0/5000,0.1/(10000+5000))\n",
    "G=snap.GetMxScc(G1)\n",
    "snap.SaveEdgeList(G, \"SB-large-network.txt\")\n",
    "\n",
    "\n",
    "### LOAD FROM FILES\n",
    "\n",
    "G = snap.LoadEdgeList(snap.PUNGraph, \"test-network.txt\", 0, 1)\n",
    "#snap.SaveMatlabSparseMtx(G, \"test-network.mat\")\n",
    "\n",
    "#G = snap.LoadEdgeList(snap.PUNGraph, \"karate-network.txt\", 0, 1)\n",
    "#snap.SaveMatlabSparseMtx(G, \"karate-network.mat\")\n",
    "\n",
    "#G = snap.LoadEdgeList(snap.PUNGraph, \"SB-small-network.txt\", 0, 1)\n",
    "#snap.SaveMatlabSparseMtx(G, \"SB-small-network.mat\")\n",
    "\n",
    "#G = snap.LoadEdgeList(snap.PUNGraph, \"SB-large-network.txt\", 0, 1)\n",
    "#snap.SaveMatlabSparseMtx(G, \"SB-large-network.mat\")\n"
   ]
  },
  {
   "cell_type": "code",
   "execution_count": 144,
   "metadata": {},
   "outputs": [
    {
     "name": "stdout",
     "output_type": "stream",
     "text": [
      "<snap.PUNGraph; proxy of <Swig Object of type 'PUNGraph *' at 0x7f59ecc16240> >\n",
      "[[0. 1. 0. 0. 0. 0.]\n",
      " [0. 0. 1. 1. 0. 0.]\n",
      " [0. 0. 0. 0. 0. 0.]\n",
      " [0. 0. 0. 0. 1. 1.]\n",
      " [0. 0. 0. 0. 0. 1.]\n",
      " [0. 0. 0. 0. 0. 0.]]\n"
     ]
    }
   ],
   "source": [
    "G = snap.LoadEdgeList(snap.PUNGraph, \"test-network.txt\", 0, 1)\n",
    "\n",
    "num_nodes = G.GetNodes()\n",
    "num_edges = G.GetEdges()\n",
    "import scipy.sparse as sp\n",
    "import numpy as np\n",
    "print(G)\n",
    "\n",
    "def create_sparse_matrix(snapGraph: snap.PUNGraph):\n",
    "    rows = []\n",
    "    cols = []\n",
    "    data = []\n",
    "    \n",
    "    for edge in G.Edges():\n",
    "        rows.append(edge.GetSrcNId()-1)\n",
    "        cols.append(edge.GetDstNId()-1)\n",
    "        data.append(1) \n",
    "    coo_matrix = sp.coo_matrix((data, (rows, cols)), shape=(num_nodes, num_nodes))\n",
    "    return coo_matrix\n",
    "\n",
    "def getA(snapGraph: snap.PUNGraph):\n",
    "    A = np.zeros((num_nodes, num_nodes))\n",
    "    for edge in snapGraph.Edges():\n",
    "        A[edge.GetSrcNId()-1][edge.GetDstNId()-1] = 1\n",
    "    return A\n",
    "    \n",
    "def getZ(sparse_matrix: sp.coo_matrix):\n",
    "    sub_matrix = np.ones((num_nodes, num_nodes))/(2*num_edges)\n",
    "    result_matrix = sp.coo_matrix(sparse_matrix.toarray()-sub_matrix)\n",
    "    return result_matrix\n",
    "\n",
    "#m = create_sparse_matrix(G)\n",
    "\n",
    "\n",
    "#Z = getZ(m).toarray()\n",
    "A = getA(G)\n",
    "print(A)"
   ]
  },
  {
   "cell_type": "code",
   "execution_count": 154,
   "metadata": {},
   "outputs": [
    {
     "name": "stdout",
     "output_type": "stream",
     "text": [
      "[[0.08333333 0.08333333 0.08333333 0.08333333 0.08333333 0.08333333]\n",
      " [0.08333333 0.08333333 0.08333333 0.08333333 0.08333333 0.08333333]\n",
      " [0.08333333 0.08333333 0.08333333 0.08333333 0.08333333 0.08333333]\n",
      " [0.08333333 0.08333333 0.08333333 0.08333333 0.08333333 0.08333333]\n",
      " [0.08333333 0.08333333 0.08333333 0.08333333 0.08333333 0.08333333]\n",
      " [0.08333333 0.08333333 0.08333333 0.08333333 0.08333333 0.08333333]]\n",
      "[ 0.54492461  0.76052028 -0.1167145   0.30893557 -0.04450099 -0.1167145 ] 0.40684568707214114 0.030061103540466514\n"
     ]
    }
   ],
   "source": [
    "\n",
    "\n",
    "sub_mat = np.ones((num_nodes, num_nodes))/(2*num_edges)\n",
    "print(sub_mat)\n",
    "def find_dominant_eigenvector(A):\n",
    "    x  = np.random.rand(num_nodes)\n",
    "    k = np.ones((1, num_nodes))\n",
    "    #x /= np.linalg.norm(x)\n",
    "    eig_values = []\n",
    "    for i in range(250):\n",
    "        x = A@x-sub_mat@x\n",
    "        x /= np.linalg.norm(x)\n",
    "        eig = x.transpose()@(A@x-sub_mat@x)\n",
    "        eig_values.append(eig)\n",
    "\n",
    "    return x, eig_values\n",
    "\n",
    "def find_eigenvector_corresponding_to_largest_eigen_value():\n",
    "    pass\n",
    "x, eig_values = find_dominant_eigenvector(A)\n",
    "print(x, max(eig_values), min(eig_values))"
   ]
  }
 ],
 "metadata": {
  "kernelspec": {
   "display_name": "3",
   "language": "python",
   "name": "python3"
  },
  "language_info": {
   "codemirror_mode": {
    "name": "ipython",
    "version": 3
   },
   "file_extension": ".py",
   "mimetype": "text/x-python",
   "name": "python",
   "nbconvert_exporter": "python",
   "pygments_lexer": "ipython3",
   "version": "3.8.10"
  },
  "orig_nbformat": 4
 },
 "nbformat": 4,
 "nbformat_minor": 2
}
